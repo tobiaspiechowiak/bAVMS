{
 "cells": [
  {
   "cell_type": "code",
   "execution_count": 79,
   "metadata": {},
   "outputs": [],
   "source": [
    "import pandas as pd\n",
    "import numpy as np"
   ]
  },
  {
   "cell_type": "code",
   "execution_count": 148,
   "metadata": {},
   "outputs": [],
   "source": [
    "#import data\n",
    "path = '../data/'\n",
    "data = pd.read_csv(path + 'Clean_data.csv')"
   ]
  },
  {
   "cell_type": "code",
   "execution_count": 149,
   "metadata": {},
   "outputs": [],
   "source": [
    "Y = data[['Volume.of.Hemorrhage.(ml)']].values"
   ]
  },
  {
   "cell_type": "code",
   "execution_count": 150,
   "metadata": {},
   "outputs": [],
   "source": [
    "#Volume of hemorrhage is column 11\n",
    "X = np.hstack([data.values[:,1:9], data.values[:,10:data.shape[1]]])"
   ]
  },
  {
   "cell_type": "code",
   "execution_count": 151,
   "metadata": {},
   "outputs": [],
   "source": [
    "#remove shit\n",
    "X[X == 'not visible'] = 0\n",
    "X[X == '0 therapiert'] = 0\n",
    "X[X == 'Mean time'] = 0"
   ]
  },
  {
   "cell_type": "code",
   "execution_count": 241,
   "metadata": {},
   "outputs": [],
   "source": [
    "X = X.astype('float')\n",
    "Y = Y.astype('float')"
   ]
  },
  {
   "cell_type": "code",
   "execution_count": 242,
   "metadata": {},
   "outputs": [
    {
     "data": {
      "text/plain": [
       "array([[0.0000e+00, 1.0000e+00, 0.0000e+00, ..., 0.0000e+00, 4.1024e+04,\n",
       "        0.0000e+00],\n",
       "       [1.0000e+00, 0.0000e+00, 1.0000e+00, ..., 0.0000e+00, 3.9360e+04,\n",
       "        1.0000e+00],\n",
       "       [0.0000e+00, 0.0000e+00, 2.0000e+00, ..., 0.0000e+00, 4.0896e+04,\n",
       "        0.0000e+00],\n",
       "       ...,\n",
       "       [1.0000e+00, 0.0000e+00, 1.0000e+00, ..., 0.0000e+00, 3.8496e+04,\n",
       "        1.0000e+00],\n",
       "       [0.0000e+00, 0.0000e+00, 8.0000e+01, ..., 0.0000e+00, 4.1024e+04,\n",
       "        0.0000e+00],\n",
       "       [0.0000e+00, 0.0000e+00, 0.0000e+00, ..., 0.0000e+00, 0.0000e+00,\n",
       "        0.0000e+00]])"
      ]
     },
     "execution_count": 242,
     "metadata": {},
     "output_type": "execute_result"
    }
   ],
   "source": [
    "X"
   ]
  },
  {
   "cell_type": "code",
   "execution_count": 243,
   "metadata": {},
   "outputs": [],
   "source": [
    "X = np.nan_to_num(X)\n",
    "Y = np.nan_to_num(Y)"
   ]
  },
  {
   "cell_type": "code",
   "execution_count": 244,
   "metadata": {},
   "outputs": [
    {
     "data": {
      "text/plain": [
       "array([[0.0000e+00, 1.0000e+00, 0.0000e+00, ..., 0.0000e+00, 4.1024e+04,\n",
       "        0.0000e+00],\n",
       "       [1.0000e+00, 0.0000e+00, 1.0000e+00, ..., 0.0000e+00, 3.9360e+04,\n",
       "        1.0000e+00],\n",
       "       [0.0000e+00, 0.0000e+00, 2.0000e+00, ..., 0.0000e+00, 4.0896e+04,\n",
       "        0.0000e+00],\n",
       "       ...,\n",
       "       [1.0000e+00, 0.0000e+00, 1.0000e+00, ..., 0.0000e+00, 3.8496e+04,\n",
       "        1.0000e+00],\n",
       "       [0.0000e+00, 0.0000e+00, 8.0000e+01, ..., 0.0000e+00, 4.1024e+04,\n",
       "        0.0000e+00],\n",
       "       [0.0000e+00, 0.0000e+00, 0.0000e+00, ..., 0.0000e+00, 0.0000e+00,\n",
       "        0.0000e+00]])"
      ]
     },
     "execution_count": 244,
     "metadata": {},
     "output_type": "execute_result"
    }
   ],
   "source": [
    "X"
   ]
  },
  {
   "cell_type": "code",
   "execution_count": 245,
   "metadata": {},
   "outputs": [
    {
     "data": {
      "text/plain": [
       "array([[13.8984375 ],\n",
       "       [60.        ],\n",
       "       [ 0.60009766],\n",
       "       [81.125     ],\n",
       "       [31.40625   ],\n",
       "       [52.09375   ],\n",
       "       [39.6875    ],\n",
       "       [ 1.79980469],\n",
       "       [ 2.19921875],\n",
       "       [15.8984375 ],\n",
       "       [ 7.6015625 ],\n",
       "       [ 3.90039062],\n",
       "       [ 0.        ],\n",
       "       [25.796875  ],\n",
       "       [ 5.80078125],\n",
       "       [22.296875  ],\n",
       "       [ 0.        ],\n",
       "       [ 5.1015625 ],\n",
       "       [ 2.19921875],\n",
       "       [ 0.60009766],\n",
       "       [ 0.        ],\n",
       "       [ 0.60009766],\n",
       "       [ 0.79980469],\n",
       "       [15.796875  ],\n",
       "       [11.1015625 ],\n",
       "       [12.3984375 ],\n",
       "       [ 1.59960938],\n",
       "       [58.59375   ],\n",
       "       [ 0.19995117],\n",
       "       [10.5       ],\n",
       "       [ 6.        ],\n",
       "       [12.        ],\n",
       "       [36.5       ],\n",
       "       [39.09375   ],\n",
       "       [ 1.40039062],\n",
       "       [ 3.40039062],\n",
       "       [ 0.        ],\n",
       "       [21.90625   ],\n",
       "       [43.8125    ],\n",
       "       [69.1875    ],\n",
       "       [25.40625   ],\n",
       "       [ 0.        ],\n",
       "       [32.5       ],\n",
       "       [ 0.        ],\n",
       "       [13.6015625 ],\n",
       "       [32.        ],\n",
       "       [30.90625   ],\n",
       "       [11.5       ],\n",
       "       [25.203125  ],\n",
       "       [ 3.90039062],\n",
       "       [ 6.        ],\n",
       "       [ 0.        ],\n",
       "       [ 0.79980469],\n",
       "       [ 8.203125  ],\n",
       "       [15.5       ],\n",
       "       [ 0.5       ],\n",
       "       [ 1.40039062],\n",
       "       [ 5.1015625 ],\n",
       "       [ 0.        ]])"
      ]
     },
     "execution_count": 245,
     "metadata": {},
     "output_type": "execute_result"
    }
   ],
   "source": [
    "Y"
   ]
  },
  {
   "cell_type": "code",
   "execution_count": 246,
   "metadata": {},
   "outputs": [],
   "source": [
    "#try to make correlation plot\n",
    "import seaborn as sns\n",
    "sns.set(font_scale= 1.5)"
   ]
  },
  {
   "cell_type": "code",
   "execution_count": 247,
   "metadata": {},
   "outputs": [],
   "source": [
    "cm = np.corrcoef(X.T)\n",
    "                 "
   ]
  },
  {
   "cell_type": "code",
   "execution_count": 248,
   "metadata": {},
   "outputs": [
    {
     "data": {
      "text/plain": [
       "array([[ 1.        ,  0.00508102, -0.17681802, ..., -0.12479126,\n",
       "         0.13881194,  0.73672252],\n",
       "       [ 0.00508102,  1.        , -0.04610989, ..., -0.20638883,\n",
       "         0.21537763,  0.09166985],\n",
       "       [-0.17681802, -0.04610989,  1.        , ..., -0.03810444,\n",
       "         0.06368552, -0.21530012],\n",
       "       ...,\n",
       "       [-0.12479126, -0.20638883, -0.03810444, ...,  1.        ,\n",
       "         0.02181878, -0.14294834],\n",
       "       [ 0.13881194,  0.21537763,  0.06368552, ...,  0.02181878,\n",
       "         1.        ,  0.11406794],\n",
       "       [ 0.73672252,  0.09166985, -0.21530012, ..., -0.14294834,\n",
       "         0.11406794,  1.        ]])"
      ]
     },
     "execution_count": 248,
     "metadata": {},
     "output_type": "execute_result"
    }
   ],
   "source": [
    "cm"
   ]
  },
  {
   "cell_type": "code",
   "execution_count": 249,
   "metadata": {},
   "outputs": [
    {
     "data": {
      "image/png": "[encoded data removed]",
      "text/plain": [
       "<Figure size 432x288 with 2 Axes>"
      ]
     },
     "metadata": {},
     "output_type": "display_data"
    }
   ],
   "source": [
    "hm = sns.heatmap(cm,cbar = True, square = True)\n",
    "plt.show()"
   ]
  },
  {
   "cell_type": "code",
   "execution_count": 250,
   "metadata": {},
   "outputs": [],
   "source": [
    "#linear regression \n",
    "import statsmodels.api as sm"
   ]
  },
  {
   "cell_type": "code",
   "execution_count": 251,
   "metadata": {},
   "outputs": [],
   "source": [
    "model = sm.OLS(Y,X).fit()"
   ]
  },
  {
   "cell_type": "code",
   "execution_count": 252,
   "metadata": {},
   "outputs": [],
   "source": [
    "names = np.hstack([data.columns.values[1:9], data.columns.values[10:47]])"
   ]
  },
  {
   "cell_type": "code",
   "execution_count": 253,
   "metadata": {},
   "outputs": [
    {
     "data": {
      "text/plain": [
       "array(['Surgery', 'Embo', 'Time.between.H.and.DSA',\n",
       "       'Time.between.H.and.DSA.<.7.days', 'Time.between.1st.and.2nd.DSA',\n",
       "       'Time.between.1st.and.last.DSA', 'Date.of.1st.EVT',\n",
       "       'Take.really.part.to.the.study.(no.previous.TTT,.less.than.6.days.between.H.and.DAS,.more.than.5.days.between.1st.and.2nd.DAS)',\n",
       "       '1st.DSA.Nidus.height.(mm)', '1st.DSA.Nidus.width.(mm)',\n",
       "       '1st.DSA.Nidus.depth.(mm)', '1st.DSA.Nidus.Volumen.(ml)',\n",
       "       '1st.DSA.Venous.drainage;.0=superficial;.1=deep',\n",
       "       '1st.DSA.eloquence;.0=No;.1=yes', '1st.DSA.Spetzler-Martin.Grade',\n",
       "       'flow-associated.aneurysm.of.feeding.artery;.0=No;.1=yes',\n",
       "       'obvious.intranidal.aneurysm;.0=No;.1=yes',\n",
       "       'venous.outpouching.of.main.draining.vein.(>10.mm.and.discrepancy.to.prox.and.dist.vein.2:1a;.0=No;.1=yes',\n",
       "       'venous.stenosis.(70%);.0=No;.1=yes',\n",
       "       'deep.feeding.artery./.perforating.artery;.0=No;.1=yes',\n",
       "       'en.passant.vessels;.0=No;.1=yes', '2nd.DSA.Nidus.height.(mm)',\n",
       "       '2nd.DSA.Nidus.width.(mm)', '2nd.DSA.Nidus.depth.(mm)',\n",
       "       '2nd.DSA.Nidus.Volumen.(ml)',\n",
       "       'Volume.change.between.1st.and.2nd.DAS', 'Volume.change.%',\n",
       "       '2nd.DSA.Venous.drainage;.0=superficial;.1=deep',\n",
       "       '2nd.DSA.eloquence;.0=No;.1=yes', '2nd.DSA.Spetzler-Martin.Grade',\n",
       "       'flow-associated.aneurysm.of.feeding.artery;.0=No;.1=yes.1',\n",
       "       'obvious.intranidal.aneurysm;.0=No;.1=yes.1',\n",
       "       'venous.outpouching.of.main.draining.vein.(>10.mm.and.discrepancy.to.prox.and.dist.vein.2:1a;.0=No;.1=yes.1',\n",
       "       'venous.stenosis.(70%);.0=No;.1=yes.1',\n",
       "       'deep.feeding.artery./.perforating.artery;.0=No;.1=yes.1',\n",
       "       'en.passant.vessels;.0=No;.1=yes.1',\n",
       "       'new.feeding.arteries.compared.to.1st.DSA;.0=No;.1=yes',\n",
       "       'new.draining.vein.compared.to.1st.DSA;.0=No;.1=yes',\n",
       "       'Changes.between.first.and.2nd.DSA;.0=no;.1=yes',\n",
       "       'Report:.Bigger?;.0=no;.1=yes', 'Report:.Smaller?;.0=no;.1=yes',\n",
       "       'Report:.Same?;.0=no;.1=yes', 'Report:.New.nidus?;.0=no;.1=yes',\n",
       "       'Time.last.DSA', 'Last.DSA:.complete.occlusion'], dtype=object)"
      ]
     },
     "execution_count": 253,
     "metadata": {},
     "output_type": "execute_result"
    }
   ],
   "source": [
    "names"
   ]
  },
  {
   "cell_type": "code",
   "execution_count": 254,
   "metadata": {},
   "outputs": [
    {
     "data": {
      "text/html": [
       "<table class=\"simpletable\">\n",
       "<caption>OLS Regression Results</caption>\n",
       "<tr>\n",
       "  <th>Dep. Variable:</th>            <td>y</td>        <th>  R-squared:         </th> <td>   0.899</td>\n",
       "</tr>\n",
       "<tr>\n",
       "  <th>Model:</th>                   <td>OLS</td>       <th>  Adj. R-squared:    </th> <td>   0.670</td>\n",
       "</tr>\n",
       "<tr>\n",
       "  <th>Method:</th>             <td>Least Squares</td>  <th>  F-statistic:       </th> <td>   3.922</td>\n",
       "</tr>\n",
       "<tr>\n",
       "  <th>Date:</th>             <td>Sun, 24 Feb 2019</td> <th>  Prob (F-statistic):</th>  <td>0.00142</td>\n",
       "</tr>\n",
       "<tr>\n",
       "  <th>Time:</th>                 <td>15:14:03</td>     <th>  Log-Likelihood:    </th> <td> -205.63</td>\n",
       "</tr>\n",
       "<tr>\n",
       "  <th>No. Observations:</th>      <td>    59</td>      <th>  AIC:               </th> <td>   493.3</td>\n",
       "</tr>\n",
       "<tr>\n",
       "  <th>Df Residuals:</th>          <td>    18</td>      <th>  BIC:               </th> <td>   578.4</td>\n",
       "</tr>\n",
       "<tr>\n",
       "  <th>Df Model:</th>              <td>    41</td>      <th>                     </th>     <td> </td>   \n",
       "</tr>\n",
       "<tr>\n",
       "  <th>Covariance Type:</th>      <td>nonrobust</td>    <th>                     </th>     <td> </td>   \n",
       "</tr>\n",
       "</table>\n",
       "<table class=\"simpletable\">\n",
       "<tr>\n",
       "   <td></td>      <th>coef</th>     <th>std err</th>      <th>t</th>      <th>P>|t|</th>  <th>[0.025</th>    <th>0.975]</th>  \n",
       "</tr>\n",
       "<tr>\n",
       "  <th>x1</th>  <td>    3.6789</td> <td>    8.878</td> <td>    0.414</td> <td> 0.683</td> <td>  -14.973</td> <td>   22.330</td>\n",
       "</tr>\n",
       "<tr>\n",
       "  <th>x2</th>  <td>   -1.7098</td> <td>   11.413</td> <td>   -0.150</td> <td> 0.883</td> <td>  -25.688</td> <td>   22.268</td>\n",
       "</tr>\n",
       "<tr>\n",
       "  <th>x3</th>  <td>   -0.0932</td> <td>    0.342</td> <td>   -0.272</td> <td> 0.788</td> <td>   -0.812</td> <td>    0.625</td>\n",
       "</tr>\n",
       "<tr>\n",
       "  <th>x4</th>  <td>  -10.2789</td> <td>   32.267</td> <td>   -0.319</td> <td> 0.754</td> <td>  -78.070</td> <td>   57.512</td>\n",
       "</tr>\n",
       "<tr>\n",
       "  <th>x5</th>  <td>    0.0388</td> <td>    0.072</td> <td>    0.538</td> <td> 0.597</td> <td>   -0.113</td> <td>    0.190</td>\n",
       "</tr>\n",
       "<tr>\n",
       "  <th>x6</th>  <td>   -0.0125</td> <td>    0.059</td> <td>   -0.211</td> <td> 0.835</td> <td>   -0.137</td> <td>    0.112</td>\n",
       "</tr>\n",
       "<tr>\n",
       "  <th>x7</th>  <td>    0.0003</td> <td>    0.000</td> <td>    1.009</td> <td> 0.326</td> <td>   -0.000</td> <td>    0.001</td>\n",
       "</tr>\n",
       "<tr>\n",
       "  <th>x8</th>  <td>    4.8529</td> <td>   12.819</td> <td>    0.379</td> <td> 0.709</td> <td>  -22.079</td> <td>   31.785</td>\n",
       "</tr>\n",
       "<tr>\n",
       "  <th>x9</th>  <td>   -0.6362</td> <td>    1.402</td> <td>   -0.454</td> <td> 0.655</td> <td>   -3.581</td> <td>    2.309</td>\n",
       "</tr>\n",
       "<tr>\n",
       "  <th>x10</th> <td>   -1.0195</td> <td>    2.097</td> <td>   -0.486</td> <td> 0.633</td> <td>   -5.426</td> <td>    3.387</td>\n",
       "</tr>\n",
       "<tr>\n",
       "  <th>x11</th> <td>   -3.4020</td> <td>    2.635</td> <td>   -1.291</td> <td> 0.213</td> <td>   -8.937</td> <td>    2.133</td>\n",
       "</tr>\n",
       "<tr>\n",
       "  <th>x12</th> <td>   -0.7925</td> <td>    0.507</td> <td>   -1.564</td> <td> 0.135</td> <td>   -1.857</td> <td>    0.272</td>\n",
       "</tr>\n",
       "<tr>\n",
       "  <th>x13</th> <td>  -14.6066</td> <td>    8.060</td> <td>   -1.812</td> <td> 0.087</td> <td>  -31.540</td> <td>    2.327</td>\n",
       "</tr>\n",
       "<tr>\n",
       "  <th>x14</th> <td>   69.6616</td> <td>   52.877</td> <td>    1.317</td> <td> 0.204</td> <td>  -41.429</td> <td>  180.752</td>\n",
       "</tr>\n",
       "<tr>\n",
       "  <th>x15</th> <td>  -14.7417</td> <td>   23.787</td> <td>   -0.620</td> <td> 0.543</td> <td>  -64.716</td> <td>   35.233</td>\n",
       "</tr>\n",
       "<tr>\n",
       "  <th>x16</th> <td>  -45.6212</td> <td>   29.331</td> <td>   -1.555</td> <td> 0.137</td> <td> -107.244</td> <td>   16.002</td>\n",
       "</tr>\n",
       "<tr>\n",
       "  <th>x17</th> <td>   -2.6461</td> <td>   10.656</td> <td>   -0.248</td> <td> 0.807</td> <td>  -25.034</td> <td>   19.742</td>\n",
       "</tr>\n",
       "<tr>\n",
       "  <th>x18</th> <td>   -3.5051</td> <td>    5.322</td> <td>   -0.659</td> <td> 0.518</td> <td>  -14.686</td> <td>    7.676</td>\n",
       "</tr>\n",
       "<tr>\n",
       "  <th>x19</th> <td>   15.2881</td> <td>    6.901</td> <td>    2.215</td> <td> 0.040</td> <td>    0.790</td> <td>   29.786</td>\n",
       "</tr>\n",
       "<tr>\n",
       "  <th>x20</th> <td>   -0.9930</td> <td>    5.101</td> <td>   -0.195</td> <td> 0.848</td> <td>  -11.711</td> <td>    9.725</td>\n",
       "</tr>\n",
       "<tr>\n",
       "  <th>x21</th> <td>   -3.0108</td> <td>   34.342</td> <td>   -0.088</td> <td> 0.931</td> <td>  -75.160</td> <td>   69.139</td>\n",
       "</tr>\n",
       "<tr>\n",
       "  <th>x22</th> <td>   -0.1053</td> <td>    1.617</td> <td>   -0.065</td> <td> 0.949</td> <td>   -3.502</td> <td>    3.291</td>\n",
       "</tr>\n",
       "<tr>\n",
       "  <th>x23</th> <td>    0.0535</td> <td>    1.927</td> <td>    0.028</td> <td> 0.978</td> <td>   -3.994</td> <td>    4.101</td>\n",
       "</tr>\n",
       "<tr>\n",
       "  <th>x24</th> <td>    3.8902</td> <td>    2.175</td> <td>    1.788</td> <td> 0.091</td> <td>   -0.680</td> <td>    8.460</td>\n",
       "</tr>\n",
       "<tr>\n",
       "  <th>x25</th> <td>    0.9647</td> <td>    0.638</td> <td>    1.511</td> <td> 0.148</td> <td>   -0.376</td> <td>    2.306</td>\n",
       "</tr>\n",
       "<tr>\n",
       "  <th>x26</th> <td>   -1.8766</td> <td>    1.286</td> <td>   -1.459</td> <td> 0.162</td> <td>   -4.579</td> <td>    0.826</td>\n",
       "</tr>\n",
       "<tr>\n",
       "  <th>x27</th> <td>    0.0664</td> <td>    0.111</td> <td>    0.598</td> <td> 0.557</td> <td>   -0.167</td> <td>    0.300</td>\n",
       "</tr>\n",
       "<tr>\n",
       "  <th>x28</th> <td>  -14.6066</td> <td>    8.060</td> <td>   -1.812</td> <td> 0.087</td> <td>  -31.540</td> <td>    2.327</td>\n",
       "</tr>\n",
       "<tr>\n",
       "  <th>x29</th> <td> -109.8752</td> <td>   58.231</td> <td>   -1.887</td> <td> 0.075</td> <td> -232.214</td> <td>   12.464</td>\n",
       "</tr>\n",
       "<tr>\n",
       "  <th>x30</th> <td>   44.7277</td> <td>   28.065</td> <td>    1.594</td> <td> 0.128</td> <td>  -14.234</td> <td>  103.689</td>\n",
       "</tr>\n",
       "<tr>\n",
       "  <th>x31</th> <td>   49.1900</td> <td>   31.776</td> <td>    1.548</td> <td> 0.139</td> <td>  -17.568</td> <td>  115.948</td>\n",
       "</tr>\n",
       "<tr>\n",
       "  <th>x32</th> <td>    9.7405</td> <td>   11.295</td> <td>    0.862</td> <td> 0.400</td> <td>  -13.989</td> <td>   33.470</td>\n",
       "</tr>\n",
       "<tr>\n",
       "  <th>x33</th> <td>   -3.5051</td> <td>    5.322</td> <td>   -0.659</td> <td> 0.518</td> <td>  -14.686</td> <td>    7.676</td>\n",
       "</tr>\n",
       "<tr>\n",
       "  <th>x34</th> <td>   15.2881</td> <td>    6.901</td> <td>    2.215</td> <td> 0.040</td> <td>    0.790</td> <td>   29.786</td>\n",
       "</tr>\n",
       "<tr>\n",
       "  <th>x35</th> <td>   -0.9930</td> <td>    5.101</td> <td>   -0.195</td> <td> 0.848</td> <td>  -11.711</td> <td>    9.725</td>\n",
       "</tr>\n",
       "<tr>\n",
       "  <th>x36</th> <td>   -5.5327</td> <td>   33.271</td> <td>   -0.166</td> <td> 0.870</td> <td>  -75.432</td> <td>   64.366</td>\n",
       "</tr>\n",
       "<tr>\n",
       "  <th>x37</th> <td>  -29.6638</td> <td>   29.566</td> <td>   -1.003</td> <td> 0.329</td> <td>  -91.780</td> <td>   32.453</td>\n",
       "</tr>\n",
       "<tr>\n",
       "  <th>x38</th> <td>   40.3866</td> <td>   21.625</td> <td>    1.868</td> <td> 0.078</td> <td>   -5.045</td> <td>   85.818</td>\n",
       "</tr>\n",
       "<tr>\n",
       "  <th>x39</th> <td>    4.6873</td> <td>   15.300</td> <td>    0.306</td> <td> 0.763</td> <td>  -27.456</td> <td>   36.831</td>\n",
       "</tr>\n",
       "<tr>\n",
       "  <th>x40</th> <td>  -33.3037</td> <td>   33.675</td> <td>   -0.989</td> <td> 0.336</td> <td> -104.053</td> <td>   37.445</td>\n",
       "</tr>\n",
       "<tr>\n",
       "  <th>x41</th> <td>    9.3227</td> <td>   29.412</td> <td>    0.317</td> <td> 0.755</td> <td>  -52.469</td> <td>   71.115</td>\n",
       "</tr>\n",
       "<tr>\n",
       "  <th>x42</th> <td>  -19.4749</td> <td>   28.358</td> <td>   -0.687</td> <td> 0.501</td> <td>  -79.053</td> <td>   40.103</td>\n",
       "</tr>\n",
       "<tr>\n",
       "  <th>x43</th> <td>  -39.2003</td> <td>   37.641</td> <td>   -1.041</td> <td> 0.311</td> <td> -118.282</td> <td>   39.882</td>\n",
       "</tr>\n",
       "<tr>\n",
       "  <th>x44</th> <td>    0.0004</td> <td>    0.001</td> <td>    0.397</td> <td> 0.696</td> <td>   -0.002</td> <td>    0.002</td>\n",
       "</tr>\n",
       "<tr>\n",
       "  <th>x45</th> <td>    4.5467</td> <td>    8.750</td> <td>    0.520</td> <td> 0.610</td> <td>  -13.836</td> <td>   22.929</td>\n",
       "</tr>\n",
       "</table>\n",
       "<table class=\"simpletable\">\n",
       "<tr>\n",
       "  <th>Omnibus:</th>       <td> 5.397</td> <th>  Durbin-Watson:     </th> <td>   1.608</td>\n",
       "</tr>\n",
       "<tr>\n",
       "  <th>Prob(Omnibus):</th> <td> 0.067</td> <th>  Jarque-Bera (JB):  </th> <td>   5.331</td>\n",
       "</tr>\n",
       "<tr>\n",
       "  <th>Skew:</th>          <td> 0.384</td> <th>  Prob(JB):          </th> <td>  0.0696</td>\n",
       "</tr>\n",
       "<tr>\n",
       "  <th>Kurtosis:</th>      <td> 4.256</td> <th>  Cond. No.          </th> <td>1.41e+16</td>\n",
       "</tr>\n",
       "</table><br/><br/>Warnings:<br/>[1] Standard Errors assume that the covariance matrix of the errors is correctly specified.<br/>[2] The smallest eigenvalue is 7.49e-22. This might indicate that there are<br/>strong multicollinearity problems or that the design matrix is singular."
      ],
      "text/plain": [
       "<class 'statsmodels.iolib.summary.Summary'>\n",
       "\"\"\"\n",
       "                            OLS Regression Results                            \n",
       "==============================================================================\n",
       "Dep. Variable:                      y   R-squared:                       0.899\n",
       "Model:                            OLS   Adj. R-squared:                  0.670\n",
       "Method:                 Least Squares   F-statistic:                     3.922\n",
       "Date:                Sun, 24 Feb 2019   Prob (F-statistic):            0.00142\n",
       "Time:                        15:14:03   Log-Likelihood:                -205.63\n",
       "No. Observations:                  59   AIC:                             493.3\n",
       "Df Residuals:                      18   BIC:                             578.4\n",
       "Df Model:                          41                                         \n",
       "Covariance Type:            nonrobust                                         \n",
       "==============================================================================\n",
       "                 coef    std err          t      P>|t|      [0.025      0.975]\n",
       "------------------------------------------------------------------------------\n",
       "x1             3.6789      8.878      0.414      0.683     -14.973      22.330\n",
       "x2            -1.7098     11.413     -0.150      0.883     -25.688      22.268\n",
       "x3            -0.0932      0.342     -0.272      0.788      -0.812       0.625\n",
       "x4           -10.2789     32.267     -0.319      0.754     -78.070      57.512\n",
       "x5             0.0388      0.072      0.538      0.597      -0.113       0.190\n",
       "x6            -0.0125      0.059     -0.211      0.835      -0.137       0.112\n",
       "x7             0.0003      0.000      1.009      0.326      -0.000       0.001\n",
       "x8             4.8529     12.819      0.379      0.709     -22.079      31.785\n",
       "x9            -0.6362      1.402     -0.454      0.655      -3.581       2.309\n",
       "x10           -1.0195      2.097     -0.486      0.633      -5.426       3.387\n",
       "x11           -3.4020      2.635     -1.291      0.213      -8.937       2.133\n",
       "x12           -0.7925      0.507     -1.564      0.135      -1.857       0.272\n",
       "x13          -14.6066      8.060     -1.812      0.087     -31.540       2.327\n",
       "x14           69.6616     52.877      1.317      0.204     -41.429     180.752\n",
       "x15          -14.7417     23.787     -0.620      0.543     -64.716      35.233\n",
       "x16          -45.6212     29.331     -1.555      0.137    -107.244      16.002\n",
       "x17           -2.6461     10.656     -0.248      0.807     -25.034      19.742\n",
       "x18           -3.5051      5.322     -0.659      0.518     -14.686       7.676\n",
       "x19           15.2881      6.901      2.215      0.040       0.790      29.786\n",
       "x20           -0.9930      5.101     -0.195      0.848     -11.711       9.725\n",
       "x21           -3.0108     34.342     -0.088      0.931     -75.160      69.139\n",
       "x22           -0.1053      1.617     -0.065      0.949      -3.502       3.291\n",
       "x23            0.0535      1.927      0.028      0.978      -3.994       4.101\n",
       "x24            3.8902      2.175      1.788      0.091      -0.680       8.460\n",
       "x25            0.9647      0.638      1.511      0.148      -0.376       2.306\n",
       "x26           -1.8766      1.286     -1.459      0.162      -4.579       0.826\n",
       "x27            0.0664      0.111      0.598      0.557      -0.167       0.300\n",
       "x28          -14.6066      8.060     -1.812      0.087     -31.540       2.327\n",
       "x29         -109.8752     58.231     -1.887      0.075    -232.214      12.464\n",
       "x30           44.7277     28.065      1.594      0.128     -14.234     103.689\n",
       "x31           49.1900     31.776      1.548      0.139     -17.568     115.948\n",
       "x32            9.7405     11.295      0.862      0.400     -13.989      33.470\n",
       "x33           -3.5051      5.322     -0.659      0.518     -14.686       7.676\n",
       "x34           15.2881      6.901      2.215      0.040       0.790      29.786\n",
       "x35           -0.9930      5.101     -0.195      0.848     -11.711       9.725\n",
       "x36           -5.5327     33.271     -0.166      0.870     -75.432      64.366\n",
       "x37          -29.6638     29.566     -1.003      0.329     -91.780      32.453\n",
       "x38           40.3866     21.625      1.868      0.078      -5.045      85.818\n",
       "x39            4.6873     15.300      0.306      0.763     -27.456      36.831\n",
       "x40          -33.3037     33.675     -0.989      0.336    -104.053      37.445\n",
       "x41            9.3227     29.412      0.317      0.755     -52.469      71.115\n",
       "x42          -19.4749     28.358     -0.687      0.501     -79.053      40.103\n",
       "x43          -39.2003     37.641     -1.041      0.311    -118.282      39.882\n",
       "x44            0.0004      0.001      0.397      0.696      -0.002       0.002\n",
       "x45            4.5467      8.750      0.520      0.610     -13.836      22.929\n",
       "==============================================================================\n",
       "Omnibus:                        5.397   Durbin-Watson:                   1.608\n",
       "Prob(Omnibus):                  0.067   Jarque-Bera (JB):                5.331\n",
       "Skew:                           0.384   Prob(JB):                       0.0696\n",
       "Kurtosis:                       4.256   Cond. No.                     1.41e+16\n",
       "==============================================================================\n",
       "\n",
       "Warnings:\n",
       "[1] Standard Errors assume that the covariance matrix of the errors is correctly specified.\n",
       "[2] The smallest eigenvalue is 7.49e-22. This might indicate that there are\n",
       "strong multicollinearity problems or that the design matrix is singular.\n",
       "\"\"\""
      ]
     },
     "execution_count": 254,
     "metadata": {},
     "output_type": "execute_result"
    }
   ],
   "source": [
    "model.summary()\n"
   ]
  },
  {
   "cell_type": "code",
   "execution_count": 230,
   "metadata": {},
   "outputs": [
    {
     "data": {
      "text/plain": [
       "array([[ 3.68346832e+00, -1.75449102e+00, -9.27394238e-02,\n",
       "        -1.02734132e+01,  3.87740484e-02, -1.20201911e-02,\n",
       "         2.71389871e-04,  4.85000204e+00, -6.33267250e-01,\n",
       "        -1.01977121e+00, -3.41445832e+00, -7.92701152e-01,\n",
       "        -1.45887939e+01,  6.95816726e+01, -1.46024225e+01,\n",
       "        -4.55476506e+01, -2.68373742e+00, -3.52372753e+00,\n",
       "         1.52904295e+01, -9.93955297e-01, -2.86306724e+00,\n",
       "        -1.06853315e-01,  5.67175090e-02,  3.89941358e+00,\n",
       "         9.64769680e-01, -1.87719397e+00,  6.60796392e-02,\n",
       "        -1.45887939e+01, -1.09789063e+02,  4.45725432e+01,\n",
       "         4.91494062e+01,  9.77435587e+00, -3.52372753e+00,\n",
       "         1.52904295e+01, -9.93955297e-01, -5.65919613e+00,\n",
       "        -2.95411818e+01,  4.04465174e+01,  4.74443059e+00,\n",
       "        -3.32739964e+01,  9.27638052e+00, -1.94069806e+01,\n",
       "        -3.92698852e+01,  3.75337031e-04,  4.58594184e+00]])"
      ]
     },
     "execution_count": 230,
     "metadata": {},
     "output_type": "execute_result"
    }
   ],
   "source": [
    "lr.coef_"
   ]
  },
  {
   "cell_type": "code",
   "execution_count": null,
   "metadata": {},
   "outputs": [],
   "source": []
  }
 ],
 "metadata": {
  "kernelspec": {
   "display_name": "Python 3",
   "language": "python",
   "name": "python3"
  }
 },
 "nbformat": 4,
 "nbformat_minor": 2
}
