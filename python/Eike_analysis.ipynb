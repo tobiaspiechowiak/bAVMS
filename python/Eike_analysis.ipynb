{
 "cells": [
  {
   "cell_type": "code",
   "execution_count": 516,
   "metadata": {},
   "outputs": [],
   "source": [
    "import pandas as pd\n",
    "import numpy as np"
   ]
  },
  {
   "cell_type": "code",
   "execution_count": 517,
   "metadata": {},
   "outputs": [],
   "source": [
    "#import data\n",
    "path = '../data/'\n",
    "data = pd.read_csv(path + 'Clean_data.csv')\n"
   ]
  },
  {
   "cell_type": "code",
   "execution_count": 518,
   "metadata": {},
   "outputs": [],
   "source": [
    "Y = data[['Volume.of.Hemorrhage.(ml)']].values\n",
    "names_Y = data[['Volume.of.Hemorrhage.(ml)']].columns.values"
   ]
  },
  {
   "cell_type": "code",
   "execution_count": 519,
   "metadata": {},
   "outputs": [],
   "source": [
    "#Volume of hemorrhage is column 11\n",
    "X = np.hstack([data.values[:,1:9], data.values[:,10:data.shape[1]]])\n",
    "names_X = np.hstack([data.columns.values[1:9], data.columns.values[10:data.shape[1]]])"
   ]
  },
  {
   "cell_type": "code",
   "execution_count": 520,
   "metadata": {},
   "outputs": [
    {
     "name": "stdout",
     "output_type": "stream",
     "text": [
      "['Surgery' 'Embo' 'Time.between.H.and.DSA'\n",
      " 'Time.between.H.and.DSA.<.7.days' 'Time.between.1st.and.2nd.DSA'\n",
      " 'Time.between.1st.and.last.DSA' 'Date.of.1st.EVT'\n",
      " 'Take.really.part.to.the.study.(no.previous.TTT,.less.than.6.days.between.H.and.DAS,.more.than.5.days.between.1st.and.2nd.DAS)'\n",
      " '1st.DSA.Nidus.height.(mm)' '1st.DSA.Nidus.width.(mm)'\n",
      " '1st.DSA.Nidus.depth.(mm)' '1st.DSA.Nidus.Volumen.(ml)'\n",
      " '1st.DSA.Venous.drainage;.0=superficial;.1=deep'\n",
      " '1st.DSA.eloquence;.0=No;.1=yes' '1st.DSA.Spetzler-Martin.Grade'\n",
      " 'obvious.intranidal.aneurysm;.0=No;.1=yes'\n",
      " 'venous.outpouching.of.main.draining.vein.(>10.mm.and.discrepancy.to.prox.and.dist.vein.2:1a;.0=No;.1=yes'\n",
      " 'deep.feeding.artery./.perforating.artery;.0=No;.1=yes'\n",
      " 'en.passant.vessels;.0=No;.1=yes' '2nd.DSA.Nidus.height.(mm)'\n",
      " '2nd.DSA.Nidus.width.(mm)' '2nd.DSA.Nidus.depth.(mm)'\n",
      " '2nd.DSA.Nidus.Volumen.(ml)' 'Volume.change.between.1st.and.2nd.DAS'\n",
      " 'Volume.change.%' '2nd.DSA.Venous.drainage;.0=superficial;.1=deep'\n",
      " '2nd.DSA.eloquence;.0=No;.1=yes' '2nd.DSA.Spetzler-Martin.Grade'\n",
      " 'flow-associated.aneurysm.of.feeding.artery;.0=No;.1=yes'\n",
      " 'obvious.intranidal.aneurysm;.0=No;.1=yes.1'\n",
      " 'venous.outpouching.of.main.draining.vein.(>10.mm.and.discrepancy.to.prox.and.dist.vein.2:1a;.0=No;.1=yes.1'\n",
      " 'venous.stenosis.(70%);.0=No;.1=yes'\n",
      " 'deep.feeding.artery./.perforating.artery;.0=No;.1=yes.1'\n",
      " 'en.passant.vessels;.0=No;.1=yes.1'\n",
      " 'new.feeding.arteries.compared.to.1st.DSA;.0=No;.1=yes'\n",
      " 'new.draining.vein.compared.to.1st.DSA;.0=No;.1=yes'\n",
      " 'Changes.between.first.and.2nd.DSA;.0=no;.1=yes'\n",
      " 'Report:.Bigger?;.0=no;.1=yes' 'Report:.Smaller?;.0=no;.1=yes'\n",
      " 'Report:.Same?;.0=no;.1=yes' 'Report:.New.nidus?;.0=no;.1=yes'\n",
      " 'Time.last.DSA' 'Last.DSA:.complete.occlusion'] ['Volume.of.Hemorrhage.(ml)']\n"
     ]
    }
   ],
   "source": [
    "print(names_X, names_Y)"
   ]
  },
  {
   "cell_type": "code",
   "execution_count": 521,
   "metadata": {},
   "outputs": [],
   "source": [
    "#remove shit\n",
    "X[X == 'not visible'] = 0\n",
    "X[X == '0 therapiert'] = 0\n",
    "X[X == 'Mean time'] = 0"
   ]
  },
  {
   "cell_type": "code",
   "execution_count": 522,
   "metadata": {},
   "outputs": [],
   "source": [
    "X = X.astype('float')\n",
    "Y = Y.astype('float')"
   ]
  },
  {
   "cell_type": "code",
   "execution_count": 523,
   "metadata": {},
   "outputs": [],
   "source": [
    "X = np.nan_to_num(X)\n",
    "Y = np.nan_to_num(Y)\n"
   ]
  },
  {
   "cell_type": "code",
   "execution_count": 524,
   "metadata": {},
   "outputs": [],
   "source": [
    "bla_X = pd.DataFrame(X,columns = names_X)\n",
    "bla_Y = pd.DataFrame(Y,columns = names_Y)"
   ]
  },
  {
   "cell_type": "code",
   "execution_count": 429,
   "metadata": {},
   "outputs": [],
   "source": [
    "#try to make correlation plot\n",
    "import seaborn as sns\n",
    "import matplotlib.pyplot as plt\n",
    "sns.set(font_scale= 1.5)"
   ]
  },
  {
   "cell_type": "code",
   "execution_count": 528,
   "metadata": {},
   "outputs": [],
   "source": [
    "cm = np.corrcoef(bla.T)\n",
    "                 "
   ]
  },
  {
   "cell_type": "code",
   "execution_count": 529,
   "metadata": {},
   "outputs": [
    {
     "data": {
      "image/png": "[encoded data removed]",
      "text/plain": [
       "<Figure size 432x288 with 2 Axes>"
      ]
     },
     "metadata": {},
     "output_type": "display_data"
    }
   ],
   "source": [
    "hm = sns.heatmap(cm,cbar = True, square = True)\n",
    "plt.show()"
   ]
  },
  {
   "cell_type": "code",
   "execution_count": 530,
   "metadata": {},
   "outputs": [],
   "source": [
    "#Standard Scaler\n",
    "from sklearn.preprocessing import StandardScaler \n",
    "sc = StandardScaler()"
   ]
  },
  {
   "cell_type": "code",
   "execution_count": 531,
   "metadata": {},
   "outputs": [],
   "source": [
    "X_scaled = sc.fit_transform(bla_X)\n",
    "Y_scaled = sc.fit_transform(bla_Y)"
   ]
  },
  {
   "cell_type": "code",
   "execution_count": 533,
   "metadata": {},
   "outputs": [],
   "source": [
    "bla = pd.DataFrame(np.hstack([X_scaled, Y_scaled]), columns = np.hstack([names_X, names_Y]))\n",
    "bla.to_csv('Cleaned_data_from_Python.csv')"
   ]
  },
  {
   "cell_type": "code",
   "execution_count": 534,
   "metadata": {},
   "outputs": [],
   "source": [
    "#linear regression \n",
    "import statsmodels.api as sm"
   ]
  },
  {
   "cell_type": "code",
   "execution_count": 535,
   "metadata": {},
   "outputs": [],
   "source": [
    "X_scaled = sm.add_constant(X_scaled)\n",
    "model = sm.OLS(Y_scaled,X_scaled).fit()"
   ]
  },
  {
   "cell_type": "code",
   "execution_count": 536,
   "metadata": {},
   "outputs": [],
   "source": [
    "stat =  model.summary()\n"
   ]
  },
  {
   "cell_type": "code",
   "execution_count": 537,
   "metadata": {},
   "outputs": [
    {
     "data": {
      "text/html": [
       "<table class=\"simpletable\">\n",
       "<caption>OLS Regression Results</caption>\n",
       "<tr>\n",
       "  <th>Dep. Variable:</th>            <td>y</td>        <th>  R-squared:         </th> <td>   0.810</td>\n",
       "</tr>\n",
       "<tr>\n",
       "  <th>Model:</th>                   <td>OLS</td>       <th>  Adj. R-squared:    </th> <td>   0.387</td>\n",
       "</tr>\n",
       "<tr>\n",
       "  <th>Method:</th>             <td>Least Squares</td>  <th>  F-statistic:       </th> <td>   1.914</td>\n",
       "</tr>\n",
       "<tr>\n",
       "  <th>Date:</th>             <td>Mon, 25 Feb 2019</td> <th>  Prob (F-statistic):</th>  <td>0.0697</td> \n",
       "</tr>\n",
       "<tr>\n",
       "  <th>Time:</th>                 <td>16:12:26</td>     <th>  Log-Likelihood:    </th> <td> -34.787</td>\n",
       "</tr>\n",
       "<tr>\n",
       "  <th>No. Observations:</th>      <td>    59</td>      <th>  AIC:               </th> <td>   151.6</td>\n",
       "</tr>\n",
       "<tr>\n",
       "  <th>Df Residuals:</th>          <td>    18</td>      <th>  BIC:               </th> <td>   236.8</td>\n",
       "</tr>\n",
       "<tr>\n",
       "  <th>Df Model:</th>              <td>    40</td>      <th>                     </th>     <td> </td>   \n",
       "</tr>\n",
       "<tr>\n",
       "  <th>Covariance Type:</th>      <td>nonrobust</td>    <th>                     </th>     <td> </td>   \n",
       "</tr>\n",
       "</table>\n",
       "<table class=\"simpletable\">\n",
       "<tr>\n",
       "    <td></td>       <th>coef</th>     <th>std err</th>      <th>t</th>      <th>P>|t|</th>  <th>[0.025</th>    <th>0.975]</th>  \n",
       "</tr>\n",
       "<tr>\n",
       "  <th>const</th> <td>-3.331e-16</td> <td>    0.103</td> <td>-3.24e-15</td> <td> 1.000</td> <td>   -0.216</td> <td>    0.216</td>\n",
       "</tr>\n",
       "<tr>\n",
       "  <th>x1</th>    <td>    0.1340</td> <td>    0.244</td> <td>    0.550</td> <td> 0.589</td> <td>   -0.378</td> <td>    0.646</td>\n",
       "</tr>\n",
       "<tr>\n",
       "  <th>x2</th>    <td>    0.1130</td> <td>    0.266</td> <td>    0.425</td> <td> 0.676</td> <td>   -0.445</td> <td>    0.671</td>\n",
       "</tr>\n",
       "<tr>\n",
       "  <th>x3</th>    <td>   -0.1462</td> <td>    0.454</td> <td>   -0.322</td> <td> 0.751</td> <td>   -1.099</td> <td>    0.807</td>\n",
       "</tr>\n",
       "<tr>\n",
       "  <th>x4</th>    <td>   -0.1718</td> <td>    0.539</td> <td>   -0.318</td> <td> 0.754</td> <td>   -1.305</td> <td>    0.962</td>\n",
       "</tr>\n",
       "<tr>\n",
       "  <th>x5</th>    <td>    0.3753</td> <td>    0.396</td> <td>    0.948</td> <td> 0.356</td> <td>   -0.457</td> <td>    1.207</td>\n",
       "</tr>\n",
       "<tr>\n",
       "  <th>x6</th>    <td>   -0.0992</td> <td>    0.442</td> <td>   -0.225</td> <td> 0.825</td> <td>   -1.027</td> <td>    0.829</td>\n",
       "</tr>\n",
       "<tr>\n",
       "  <th>x7</th>    <td>    0.1377</td> <td>    0.250</td> <td>    0.551</td> <td> 0.588</td> <td>   -0.387</td> <td>    0.663</td>\n",
       "</tr>\n",
       "<tr>\n",
       "  <th>x8</th>    <td>   -0.0579</td> <td>    0.286</td> <td>   -0.202</td> <td> 0.842</td> <td>   -0.660</td> <td>    0.544</td>\n",
       "</tr>\n",
       "<tr>\n",
       "  <th>x9</th>    <td>   -1.0684</td> <td>    0.877</td> <td>   -1.218</td> <td> 0.239</td> <td>   -2.911</td> <td>    0.774</td>\n",
       "</tr>\n",
       "<tr>\n",
       "  <th>x10</th>   <td>   -1.5164</td> <td>    1.442</td> <td>   -1.052</td> <td> 0.307</td> <td>   -4.546</td> <td>    1.513</td>\n",
       "</tr>\n",
       "<tr>\n",
       "  <th>x11</th>   <td>   -2.9658</td> <td>    2.378</td> <td>   -1.247</td> <td> 0.228</td> <td>   -7.962</td> <td>    2.030</td>\n",
       "</tr>\n",
       "<tr>\n",
       "  <th>x12</th>   <td>   -3.4079</td> <td>    2.873</td> <td>   -1.186</td> <td> 0.251</td> <td>   -9.445</td> <td>    2.629</td>\n",
       "</tr>\n",
       "<tr>\n",
       "  <th>x13</th>   <td>   -0.3317</td> <td>    0.220</td> <td>   -1.505</td> <td> 0.150</td> <td>   -0.795</td> <td>    0.131</td>\n",
       "</tr>\n",
       "<tr>\n",
       "  <th>x14</th>   <td>    2.4102</td> <td>    1.337</td> <td>    1.802</td> <td> 0.088</td> <td>   -0.400</td> <td>    5.220</td>\n",
       "</tr>\n",
       "<tr>\n",
       "  <th>x15</th>   <td>   -1.0112</td> <td>    1.585</td> <td>   -0.638</td> <td> 0.531</td> <td>   -4.340</td> <td>    2.318</td>\n",
       "</tr>\n",
       "<tr>\n",
       "  <th>x16</th>   <td>   -0.2074</td> <td>    0.242</td> <td>   -0.856</td> <td> 0.403</td> <td>   -0.716</td> <td>    0.302</td>\n",
       "</tr>\n",
       "<tr>\n",
       "  <th>x17</th>   <td>   -0.0762</td> <td>    0.106</td> <td>   -0.722</td> <td> 0.480</td> <td>   -0.298</td> <td>    0.146</td>\n",
       "</tr>\n",
       "<tr>\n",
       "  <th>x18</th>   <td>    0.0063</td> <td>    0.118</td> <td>    0.053</td> <td> 0.958</td> <td>   -0.242</td> <td>    0.255</td>\n",
       "</tr>\n",
       "<tr>\n",
       "  <th>x19</th>   <td>    0.1570</td> <td>    0.936</td> <td>    0.168</td> <td> 0.869</td> <td>   -1.809</td> <td>    2.123</td>\n",
       "</tr>\n",
       "<tr>\n",
       "  <th>x20</th>   <td>    0.9036</td> <td>    0.937</td> <td>    0.964</td> <td> 0.348</td> <td>   -1.066</td> <td>    2.873</td>\n",
       "</tr>\n",
       "<tr>\n",
       "  <th>x21</th>   <td>    0.7438</td> <td>    1.221</td> <td>    0.609</td> <td> 0.550</td> <td>   -1.821</td> <td>    3.309</td>\n",
       "</tr>\n",
       "<tr>\n",
       "  <th>x22</th>   <td>    3.4739</td> <td>    2.071</td> <td>    1.677</td> <td> 0.111</td> <td>   -0.878</td> <td>    7.826</td>\n",
       "</tr>\n",
       "<tr>\n",
       "  <th>x23</th>   <td>    3.5642</td> <td>    3.110</td> <td>    1.146</td> <td> 0.267</td> <td>   -2.970</td> <td>   10.098</td>\n",
       "</tr>\n",
       "<tr>\n",
       "  <th>x24</th>   <td>   -0.7375</td> <td>    0.658</td> <td>   -1.122</td> <td> 0.277</td> <td>   -2.119</td> <td>    0.644</td>\n",
       "</tr>\n",
       "<tr>\n",
       "  <th>x25</th>   <td>    0.1843</td> <td>    0.256</td> <td>    0.721</td> <td> 0.480</td> <td>   -0.352</td> <td>    0.721</td>\n",
       "</tr>\n",
       "<tr>\n",
       "  <th>x26</th>   <td>   -0.3317</td> <td>    0.220</td> <td>   -1.505</td> <td> 0.150</td> <td>   -0.795</td> <td>    0.131</td>\n",
       "</tr>\n",
       "<tr>\n",
       "  <th>x27</th>   <td>   -3.1818</td> <td>    1.545</td> <td>   -2.060</td> <td> 0.054</td> <td>   -6.427</td> <td>    0.064</td>\n",
       "</tr>\n",
       "<tr>\n",
       "  <th>x28</th>   <td>    2.5107</td> <td>    1.831</td> <td>    1.371</td> <td> 0.187</td> <td>   -1.336</td> <td>    6.357</td>\n",
       "</tr>\n",
       "<tr>\n",
       "  <th>x29</th>   <td>    0.0339</td> <td>    0.201</td> <td>    0.169</td> <td> 0.868</td> <td>   -0.388</td> <td>    0.456</td>\n",
       "</tr>\n",
       "<tr>\n",
       "  <th>x30</th>   <td>    0.2373</td> <td>    0.283</td> <td>    0.839</td> <td> 0.412</td> <td>   -0.357</td> <td>    0.831</td>\n",
       "</tr>\n",
       "<tr>\n",
       "  <th>x31</th>   <td>   -0.0762</td> <td>    0.106</td> <td>   -0.722</td> <td> 0.480</td> <td>   -0.298</td> <td>    0.146</td>\n",
       "</tr>\n",
       "<tr>\n",
       "  <th>x32</th>   <td>    0.3002</td> <td>    0.164</td> <td>    1.828</td> <td> 0.084</td> <td>   -0.045</td> <td>    0.645</td>\n",
       "</tr>\n",
       "<tr>\n",
       "  <th>x33</th>   <td>    0.0063</td> <td>    0.118</td> <td>    0.053</td> <td> 0.958</td> <td>   -0.242</td> <td>    0.255</td>\n",
       "</tr>\n",
       "<tr>\n",
       "  <th>x34</th>   <td>   -0.1931</td> <td>    0.916</td> <td>   -0.211</td> <td> 0.836</td> <td>   -2.118</td> <td>    1.732</td>\n",
       "</tr>\n",
       "<tr>\n",
       "  <th>x35</th>   <td>   -0.2403</td> <td>    0.354</td> <td>   -0.680</td> <td> 0.505</td> <td>   -0.983</td> <td>    0.503</td>\n",
       "</tr>\n",
       "<tr>\n",
       "  <th>x36</th>   <td>    0.4419</td> <td>    0.213</td> <td>    2.079</td> <td> 0.052</td> <td>   -0.005</td> <td>    0.888</td>\n",
       "</tr>\n",
       "<tr>\n",
       "  <th>x37</th>   <td>    0.4282</td> <td>    0.362</td> <td>    1.183</td> <td> 0.252</td> <td>   -0.332</td> <td>    1.189</td>\n",
       "</tr>\n",
       "<tr>\n",
       "  <th>x38</th>   <td>   -1.0113</td> <td>    0.768</td> <td>   -1.316</td> <td> 0.205</td> <td>   -2.626</td> <td>    0.603</td>\n",
       "</tr>\n",
       "<tr>\n",
       "  <th>x39</th>   <td>    0.0950</td> <td>    0.670</td> <td>    0.142</td> <td> 0.889</td> <td>   -1.312</td> <td>    1.502</td>\n",
       "</tr>\n",
       "<tr>\n",
       "  <th>x40</th>   <td>   -0.3311</td> <td>    0.776</td> <td>   -0.427</td> <td> 0.674</td> <td>   -1.960</td> <td>    1.298</td>\n",
       "</tr>\n",
       "<tr>\n",
       "  <th>x41</th>   <td>   -0.2874</td> <td>    0.268</td> <td>   -1.072</td> <td> 0.298</td> <td>   -0.851</td> <td>    0.276</td>\n",
       "</tr>\n",
       "<tr>\n",
       "  <th>x42</th>   <td>    0.0611</td> <td>    0.276</td> <td>    0.221</td> <td> 0.827</td> <td>   -0.519</td> <td>    0.641</td>\n",
       "</tr>\n",
       "<tr>\n",
       "  <th>x43</th>   <td>    0.1388</td> <td>    0.241</td> <td>    0.575</td> <td> 0.572</td> <td>   -0.368</td> <td>    0.646</td>\n",
       "</tr>\n",
       "</table>\n",
       "<table class=\"simpletable\">\n",
       "<tr>\n",
       "  <th>Omnibus:</th>       <td>12.645</td> <th>  Durbin-Watson:     </th> <td>   1.677</td>\n",
       "</tr>\n",
       "<tr>\n",
       "  <th>Prob(Omnibus):</th> <td> 0.002</td> <th>  Jarque-Bera (JB):  </th> <td>  21.124</td>\n",
       "</tr>\n",
       "<tr>\n",
       "  <th>Skew:</th>          <td> 0.662</td> <th>  Prob(JB):          </th> <td>2.59e-05</td>\n",
       "</tr>\n",
       "<tr>\n",
       "  <th>Kurtosis:</th>      <td> 5.615</td> <th>  Cond. No.          </th> <td>1.27e+16</td>\n",
       "</tr>\n",
       "</table><br/><br/>Warnings:<br/>[1] Standard Errors assume that the covariance matrix of the errors is correctly specified.<br/>[2] The smallest eigenvalue is 4.09e-30. This might indicate that there are<br/>strong multicollinearity problems or that the design matrix is singular."
      ],
      "text/plain": [
       "<class 'statsmodels.iolib.summary.Summary'>\n",
       "\"\"\"\n",
       "                            OLS Regression Results                            \n",
       "==============================================================================\n",
       "Dep. Variable:                      y   R-squared:                       0.810\n",
       "Model:                            OLS   Adj. R-squared:                  0.387\n",
       "Method:                 Least Squares   F-statistic:                     1.914\n",
       "Date:                Mon, 25 Feb 2019   Prob (F-statistic):             0.0697\n",
       "Time:                        16:12:26   Log-Likelihood:                -34.787\n",
       "No. Observations:                  59   AIC:                             151.6\n",
       "Df Residuals:                      18   BIC:                             236.8\n",
       "Df Model:                          40                                         \n",
       "Covariance Type:            nonrobust                                         \n",
       "==============================================================================\n",
       "                 coef    std err          t      P>|t|      [0.025      0.975]\n",
       "------------------------------------------------------------------------------\n",
       "const      -3.331e-16      0.103  -3.24e-15      1.000      -0.216       0.216\n",
       "x1             0.1340      0.244      0.550      0.589      -0.378       0.646\n",
       "x2             0.1130      0.266      0.425      0.676      -0.445       0.671\n",
       "x3            -0.1462      0.454     -0.322      0.751      -1.099       0.807\n",
       "x4            -0.1718      0.539     -0.318      0.754      -1.305       0.962\n",
       "x5             0.3753      0.396      0.948      0.356      -0.457       1.207\n",
       "x6            -0.0992      0.442     -0.225      0.825      -1.027       0.829\n",
       "x7             0.1377      0.250      0.551      0.588      -0.387       0.663\n",
       "x8            -0.0579      0.286     -0.202      0.842      -0.660       0.544\n",
       "x9            -1.0684      0.877     -1.218      0.239      -2.911       0.774\n",
       "x10           -1.5164      1.442     -1.052      0.307      -4.546       1.513\n",
       "x11           -2.9658      2.378     -1.247      0.228      -7.962       2.030\n",
       "x12           -3.4079      2.873     -1.186      0.251      -9.445       2.629\n",
       "x13           -0.3317      0.220     -1.505      0.150      -0.795       0.131\n",
       "x14            2.4102      1.337      1.802      0.088      -0.400       5.220\n",
       "x15           -1.0112      1.585     -0.638      0.531      -4.340       2.318\n",
       "x16           -0.2074      0.242     -0.856      0.403      -0.716       0.302\n",
       "x17           -0.0762      0.106     -0.722      0.480      -0.298       0.146\n",
       "x18            0.0063      0.118      0.053      0.958      -0.242       0.255\n",
       "x19            0.1570      0.936      0.168      0.869      -1.809       2.123\n",
       "x20            0.9036      0.937      0.964      0.348      -1.066       2.873\n",
       "x21            0.7438      1.221      0.609      0.550      -1.821       3.309\n",
       "x22            3.4739      2.071      1.677      0.111      -0.878       7.826\n",
       "x23            3.5642      3.110      1.146      0.267      -2.970      10.098\n",
       "x24           -0.7375      0.658     -1.122      0.277      -2.119       0.644\n",
       "x25            0.1843      0.256      0.721      0.480      -0.352       0.721\n",
       "x26           -0.3317      0.220     -1.505      0.150      -0.795       0.131\n",
       "x27           -3.1818      1.545     -2.060      0.054      -6.427       0.064\n",
       "x28            2.5107      1.831      1.371      0.187      -1.336       6.357\n",
       "x29            0.0339      0.201      0.169      0.868      -0.388       0.456\n",
       "x30            0.2373      0.283      0.839      0.412      -0.357       0.831\n",
       "x31           -0.0762      0.106     -0.722      0.480      -0.298       0.146\n",
       "x32            0.3002      0.164      1.828      0.084      -0.045       0.645\n",
       "x33            0.0063      0.118      0.053      0.958      -0.242       0.255\n",
       "x34           -0.1931      0.916     -0.211      0.836      -2.118       1.732\n",
       "x35           -0.2403      0.354     -0.680      0.505      -0.983       0.503\n",
       "x36            0.4419      0.213      2.079      0.052      -0.005       0.888\n",
       "x37            0.4282      0.362      1.183      0.252      -0.332       1.189\n",
       "x38           -1.0113      0.768     -1.316      0.205      -2.626       0.603\n",
       "x39            0.0950      0.670      0.142      0.889      -1.312       1.502\n",
       "x40           -0.3311      0.776     -0.427      0.674      -1.960       1.298\n",
       "x41           -0.2874      0.268     -1.072      0.298      -0.851       0.276\n",
       "x42            0.0611      0.276      0.221      0.827      -0.519       0.641\n",
       "x43            0.1388      0.241      0.575      0.572      -0.368       0.646\n",
       "==============================================================================\n",
       "Omnibus:                       12.645   Durbin-Watson:                   1.677\n",
       "Prob(Omnibus):                  0.002   Jarque-Bera (JB):               21.124\n",
       "Skew:                           0.662   Prob(JB):                     2.59e-05\n",
       "Kurtosis:                       5.615   Cond. No.                     1.27e+16\n",
       "==============================================================================\n",
       "\n",
       "Warnings:\n",
       "[1] Standard Errors assume that the covariance matrix of the errors is correctly specified.\n",
       "[2] The smallest eigenvalue is 4.09e-30. This might indicate that there are\n",
       "strong multicollinearity problems or that the design matrix is singular.\n",
       "\"\"\""
      ]
     },
     "execution_count": 537,
     "metadata": {},
     "output_type": "execute_result"
    }
   ],
   "source": [
    "stat"
   ]
  },
  {
   "cell_type": "code",
   "execution_count": null,
   "metadata": {},
   "outputs": [],
   "source": []
  }
 ],
 "metadata": {
  "kernelspec": {
   "display_name": "Python 3",
   "language": "python",
   "name": "python3"
  },
  "language_info": {
   "codemirror_mode": {
    "name": "ipython",
    "version": 3
   },
   "file_extension": ".py",
   "mimetype": "text/x-python",
   "name": "python",
   "nbconvert_exporter": "python",
   "pygments_lexer": "ipython3",
   "version": "3.6.5"
  }
 },
 "nbformat": 4,
 "nbformat_minor": 2
}
